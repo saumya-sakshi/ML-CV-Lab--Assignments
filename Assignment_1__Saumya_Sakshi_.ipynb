{
  "nbformat": 4,
  "nbformat_minor": 0,
  "metadata": {
    "colab": {
      "name": "Assignment_1 _Saumya_Sakshi .ipynb",
      "provenance": [],
      "collapsed_sections": [],
      "include_colab_link": true
    },
    "kernelspec": {
      "name": "python3",
      "display_name": "Python 3"
    }
  },
  "cells": [
    {
      "cell_type": "markdown",
      "metadata": {
        "id": "view-in-github",
        "colab_type": "text"
      },
      "source": [
        "<a href=\"https://colab.research.google.com/github/saumya-sakshi/ML-CV-Lab--Assignments/blob/main/Assignment_1__Saumya_Sakshi_.ipynb\" target=\"_parent\"><img src=\"https://colab.research.google.com/assets/colab-badge.svg\" alt=\"Open In Colab\"/></a>"
      ]
    },
    {
      "cell_type": "code",
      "metadata": {
        "colab": {
          "base_uri": "https://localhost:8080/"
        },
        "id": "uyCbbkgI9k17",
        "outputId": "9940a69a-9688-4166-987b-837f6a337978"
      },
      "source": [
        "#1. To display about yourself(Name, branch, roll_no, semester, department, college_name) where you show different types of comment line including the new line\n",
        "name = \"Saumya Sakshi\"\n",
        "branch = \"CSE\"\n",
        "roll_no = \"CS180112\"\n",
        "semester = 6\n",
        "college_name = \"C. V. Raman Global University\"\n",
        "print(name + \"\\n\" + branch + \"\\n\" + roll_no + \"\\n\" + str(semester) + \"\\n\" + college_name)"
      ],
      "execution_count": null,
      "outputs": [
        {
          "output_type": "stream",
          "text": [
            "Saumya Sakshi\n",
            "CSE\n",
            "CS180112\n",
            "6\n",
            "C. V. Raman Global University\n"
          ],
          "name": "stdout"
        }
      ]
    },
    {
      "cell_type": "code",
      "metadata": {
        "colab": {
          "base_uri": "https://localhost:8080/"
        },
        "id": "5W0HNxLN_Xn8",
        "outputId": "8037e0fe-5461-438e-f19a-f38a6fd340f0"
      },
      "source": [
        "#2. Initialize two variables and to show the result of addition, multiplication, subtraction, division, modulus and exponent\n",
        "a = 20\n",
        "b = 10\n",
        "print(\"Addition: \",a+b)\n",
        "print(\"Subtraction: \",a-b)\n",
        "print(\"Multiplication: \",a*b)\n",
        "print(\"Division: \",a/b)\n",
        "print(\"Modulus: \",a%b)\n",
        "print(\"Exponent: \",a**b)"
      ],
      "execution_count": null,
      "outputs": [
        {
          "output_type": "stream",
          "text": [
            "Addition:  30\n",
            "Subtraction:  10\n",
            "Multiplication:  200\n",
            "Division:  2.0\n",
            "Modulus:  0\n",
            "Exponent:  10240000000000\n"
          ],
          "name": "stdout"
        }
      ]
    },
    {
      "cell_type": "code",
      "metadata": {
        "colab": {
          "base_uri": "https://localhost:8080/"
        },
        "id": "N3yJf0nXAACJ",
        "outputId": "e9b922a3-ef90-465f-9028-f9ec9c5e447e"
      },
      "source": [
        "#3. To show all the arithmetic operation by taking the input from the keyboard\n",
        "a = int(input(\"Enter first number\"))\n",
        "b = int(input(\"Enter second number\"))\n",
        "print(\"Addition: \",a+b)\n",
        "print(\"Subtraction: \",a-b)\n",
        "print(\"Multiplication: \",a*b)\n",
        "print(\"Division: \",a/b)\n",
        "print(\"Modulus: \",a%b)\n",
        "print(\"Exponent: \",a**b)\n",
        "print(\"Quotient: \",a//b)"
      ],
      "execution_count": null,
      "outputs": [
        {
          "output_type": "stream",
          "text": [
            "Enter first number20\n",
            "Enter second number10\n",
            "Addition:  30\n",
            "Subtraction:  10\n",
            "Multiplication:  200\n",
            "Division:  2.0\n",
            "Modulus:  0\n",
            "Exponent:  10240000000000\n",
            "Quotient:  2\n"
          ],
          "name": "stdout"
        }
      ]
    },
    {
      "cell_type": "code",
      "metadata": {
        "colab": {
          "base_uri": "https://localhost:8080/"
        },
        "id": "Uo8gggkiBLQJ",
        "outputId": "a7470c82-5689-4878-b529-a9ffec4967be"
      },
      "source": [
        "#4. COnvert he value from Celsius to Fahrenheit\n",
        "celsius = int(input(\"Enter the temperature in celsius: \"))\n",
        "fahrenheit = (celsius * (9 / 5)) + 32\n",
        "print(\"Temperature in fahrenheit: \",fahrenheit)"
      ],
      "execution_count": null,
      "outputs": [
        {
          "output_type": "stream",
          "text": [
            "Enter the temperature in celsius: 38\n",
            "Temperature in fahrenheit:  100.4\n"
          ],
          "name": "stdout"
        }
      ]
    },
    {
      "cell_type": "code",
      "metadata": {
        "colab": {
          "base_uri": "https://localhost:8080/"
        },
        "id": "mZCYYkusCDhF",
        "outputId": "02830154-2231-4fbd-f405-daf20f1dfbcd"
      },
      "source": [
        "#5. write a program to prompt the user for hours and rate per hour to compute gross pay\n",
        "hours = int(input(\"Enter the hours: \"))\n",
        "rate_per_hour = float(input(\"Enter the rate per hour: \"))\n",
        "print(\"Gross pay: \",hours * rate_per_hour)"
      ],
      "execution_count": null,
      "outputs": [
        {
          "output_type": "stream",
          "text": [
            "Enter the hours: 40\n",
            "Enter the rate per hour: 2.5\n",
            "Gross pay:  100.0\n"
          ],
          "name": "stdout"
        }
      ]
    },
    {
      "cell_type": "code",
      "metadata": {
        "colab": {
          "base_uri": "https://localhost:8080/"
        },
        "id": "kimsutGTCrIp",
        "outputId": "0d2f3404-78d9-45af-8188-6b220e64ee9a"
      },
      "source": [
        "#6. To see the datatype of variable\n",
        "a = 1\n",
        "print(type(a))\n",
        "a = 2.2\n",
        "print(type(a))\n",
        "a = 'SAKSHI'\n",
        "print(type(a))\n",
        "a = [1,2]\n",
        "print(type(a))\n",
        "a = {1:'a',2:'b'}\n",
        "print(type(a))\n",
        "a = {1,2}\n",
        "print(type(a))"
      ],
      "execution_count": null,
      "outputs": [
        {
          "output_type": "stream",
          "text": [
            "<class 'int'>\n",
            "<class 'float'>\n",
            "<class 'str'>\n",
            "<class 'list'>\n",
            "<class 'dict'>\n",
            "<class 'set'>\n"
          ],
          "name": "stdout"
        }
      ]
    },
    {
      "cell_type": "code",
      "metadata": {
        "colab": {
          "base_uri": "https://localhost:8080/"
        },
        "id": "BvuZyA--6sab",
        "outputId": "023483ed-c322-48de-ca8b-23fca04c6c16"
      },
      "source": [
        "#7. Find area and perimeter of triangle, circle and square\n",
        "import math\n",
        "#area and perimeter of triangle\n",
        "height = float(input(\"Enter height of triange: \"))\n",
        "base = float(input(\"Enter base of triangel: \"))\n",
        "area_of_triangle = 0.5 * height * base\n",
        "perimeter_of_triangle = height + base + math.sqrt((height * height)+(base * base))\n",
        "print(\"Area: \",area_of_triangle,\" Perimeter: \",perimeter_of_triangle)\n",
        "#area and perimeter of circle\n",
        "radius = float(input(\"Enter the radius of the circle: \"))\n",
        "area_of_circle = math.pi * radius * radius\n",
        "perimeter_of_circle = 2 * math.pi * radius\n",
        "print(\"Area: \",area_of_circle,\" Perimeter: \",perimeter_of_circle)\n",
        "#area and perimeter of square\n",
        "side = float(input(\"Enter the side of the square: \"))\n",
        "area_of_square = side * side\n",
        "perimeter_of_square = 4 * side\n",
        "print(\"Area: \",area_of_square,\" Perimeter: \",perimeter_of_square)"
      ],
      "execution_count": null,
      "outputs": [
        {
          "output_type": "stream",
          "text": [
            "Enter height of triange: 12\n",
            "Enter base of triangel: 8\n",
            "Area:  48.0  Perimeter:  34.42220510185596\n",
            "Enter the radius of the circle: 7\n",
            "Area:  153.93804002589985  Perimeter:  43.982297150257104\n",
            "Enter the side of the square: 5\n",
            "Area:  25.0  Perimeter:  20.0\n"
          ],
          "name": "stdout"
        }
      ]
    },
    {
      "cell_type": "code",
      "metadata": {
        "colab": {
          "base_uri": "https://localhost:8080/"
        },
        "id": "90E9KPDS9tRi",
        "outputId": "35906fc0-eff7-4395-9086-2cc0fe2f0e07"
      },
      "source": [
        "#8. write a program to swap two numbers\n",
        "a = 10\n",
        "b = 20\n",
        "print(\"Numbers before swap: a = \",a,\" b = \",b)\n",
        "a,b = b,a\n",
        "print(\"Numbers after swap: a = \",a,\" b = \",b)"
      ],
      "execution_count": null,
      "outputs": [
        {
          "output_type": "stream",
          "text": [
            "Numbers before swap: a =  10  b =  20\n",
            "Numbers after swap: a =  20  b =  10\n"
          ],
          "name": "stdout"
        }
      ]
    },
    {
      "cell_type": "code",
      "metadata": {
        "colab": {
          "base_uri": "https://localhost:8080/"
        },
        "id": "oUsnmNUA-GPW",
        "outputId": "0d485cdd-7fca-4dc8-aa23-1a7f064d519d"
      },
      "source": [
        "#9. To show the use of all the arithmetic operators\n",
        "a = 20\n",
        "b = 10\n",
        "print(\"Addition (+): \",a+b)\n",
        "print(\"Subtraction (-): \",a-b)\n",
        "print(\"Multiplication (*): \",a*b)\n",
        "print(\"Division (/): \",a/b)\n",
        "print(\"Modulus (%): \",a%b)\n",
        "print(\"Exponent (**): \",a**b)\n",
        "print(\"Quotient (//): \",a//b)"
      ],
      "execution_count": null,
      "outputs": [
        {
          "output_type": "stream",
          "text": [
            "Addition (+):  30\n",
            "Subtraction (-):  10\n",
            "Multiplication (*):  200\n",
            "Division (/):  2.0\n",
            "Modulus (%):  0\n",
            "Exponent (**):  10240000000000\n",
            "Quotient (//):  2\n"
          ],
          "name": "stdout"
        }
      ]
    },
    {
      "cell_type": "code",
      "metadata": {
        "id": "EOXmydBx_CuT",
        "colab": {
          "base_uri": "https://localhost:8080/"
        },
        "outputId": "cf86cba0-ce9b-4869-b09e-bc2941ca9ea6"
      },
      "source": [
        "#10. To show the use of all the assignment operators.\n",
        "a = 21\n",
        "b = 10\n",
        "c = 0\n",
        "\n",
        "c = a + b\n",
        "print (\"Line 1 - Value of c is \", c)\n",
        "\n",
        "c += a\n",
        "print (\"Line 2 - Value of c is \", c )\n",
        "\n",
        "c *= a\n",
        "print( \"Line 3 - Value of c is \", c )\n",
        "\n",
        "c /= a \n",
        "print( \"Line 4 - Value of c is \", c )\n",
        "\n",
        "c  = 2\n",
        "c %= a\n",
        "print( \"Line 5 - Value of c is \", c)\n",
        "\n",
        "c **= a\n",
        "print( \"Line 6 - Value of c is \", c)\n",
        "\n",
        "c //= a\n",
        "print (\"Line 7 - Value of c is \", c)"
      ],
      "execution_count": null,
      "outputs": [
        {
          "output_type": "stream",
          "text": [
            "Line 1 - Value of c is  31\n",
            "Line 2 - Value of c is  52\n",
            "Line 3 - Value of c is  1092\n",
            "Line 4 - Value of c is  52.0\n",
            "Line 5 - Value of c is  2\n",
            "Line 6 - Value of c is  2097152\n",
            "Line 7 - Value of c is  99864\n"
          ],
          "name": "stdout"
        }
      ]
    },
    {
      "cell_type": "code",
      "metadata": {
        "colab": {
          "base_uri": "https://localhost:8080/"
        },
        "id": "IPZF1d7yShTm",
        "outputId": "20bfc958-097e-4311-f0c1-ce8e4e3faf89"
      },
      "source": [
        "#11. To show the use of all the comparison/Relational operators\r\n",
        "\r\n",
        "a = 9\r\n",
        "b = 5\r\n",
        "# Output \r\n",
        "print(\"9 > 5 : \",a > b)\r\n",
        "# Output \r\n",
        "print(\"9 < 5 : \",a < b)\r\n",
        "# Output \r\n",
        "print(\"9 = 5 : \",a == b)\r\n",
        "# Output \r\n",
        "print(\"9 != 5 : \",a != b)\r\n",
        "# Output \r\n",
        "print(\"9 >= 5 : \",a >= b)\r\n",
        "# Output \r\n",
        "print(\"9 <= 5 : \",a <= b)"
      ],
      "execution_count": null,
      "outputs": [
        {
          "output_type": "stream",
          "text": [
            "9 > 5 :  True\n",
            "9 < 5 :  False\n",
            "9 = 5 :  False\n",
            "9 != 5 :  True\n",
            "9 >= 5 :  True\n",
            "9 <= 5 :  False\n"
          ],
          "name": "stdout"
        }
      ]
    },
    {
      "cell_type": "code",
      "metadata": {
        "colab": {
          "base_uri": "https://localhost:8080/"
        },
        "id": "81jVkRx9TUGm",
        "outputId": "baea789c-36a0-45ef-ae6d-8449316bb61a"
      },
      "source": [
        "#12. To show the use of all the logical operators.\r\n",
        "a = 10\r\n",
        "b = 10\r\n",
        "c = -10\r\n",
        "  \r\n",
        "if a > 0 and b > 0: \r\n",
        "    print(\"The numbers are greater than 0\") \r\n",
        "  \r\n",
        "if a > 0 and b > 0 and c > 0: \r\n",
        "    print(\"The numbers are greater than 0\") \r\n",
        "else: \r\n",
        "    print(\"Atleast one number is not greater than 0\") \r\n",
        "\r\n",
        "if a or b or c: \r\n",
        "    print(\"Atleast one number has boolean value as True\") \r\n",
        "else: \r\n",
        "    print(\"All the numbers have boolean value as False\") \r\n",
        "if not a: \r\n",
        "    print(\"Boolean value of a is True\") \r\n",
        "  \r\n",
        "if not (a%3 == 0 or a%5 == 0): \r\n",
        "    print(\"10 is not divisible by either 3 or 5\") \r\n",
        "else: \r\n",
        "    print(\"10 is divisible by either 3 or 5\") "
      ],
      "execution_count": null,
      "outputs": [
        {
          "output_type": "stream",
          "text": [
            "The numbers are greater than 0\n",
            "Atleast one number is not greater than 0\n",
            "Atleast one number has boolean value as True\n",
            "10 is divisible by either 3 or 5\n"
          ],
          "name": "stdout"
        }
      ]
    },
    {
      "cell_type": "code",
      "metadata": {
        "colab": {
          "base_uri": "https://localhost:8080/"
        },
        "id": "_dpFvrjITumU",
        "outputId": "f5e5a484-e6c0-47e5-a19a-0ff37db15b9c"
      },
      "source": [
        "#13. To show the use of all the identity operators.\r\n",
        "\r\n",
        "a = 20\r\n",
        "b = 20\r\n",
        "\r\n",
        "if ( a is b ):\r\n",
        "   print (\"Line 1 - a and b have same identity\")\r\n",
        "else:\r\n",
        "   print (\"Line 1 - a and b do not have same identity\")\r\n",
        "\r\n",
        "if ( id(a) == id(b) ):\r\n",
        "   print (\"Line 2 - a and b have same identity\")\r\n",
        "else:\r\n",
        "   print( \"Line 2 - a and b do not have same identity\")\r\n",
        "\r\n",
        "b = 30\r\n",
        "if ( a is b ):\r\n",
        "   print (\"Line 3 - a and b have same identity\")\r\n",
        "else:\r\n",
        "   print (\"Line 3 - a and b do not have same identity\")\r\n",
        "\r\n",
        "if ( a is not b ):\r\n",
        "   print (\"Line 4 - a and b do not have same identity\")\r\n",
        "else:\r\n",
        "   print (\"Line 4 - a and b have same identity\")"
      ],
      "execution_count": null,
      "outputs": [
        {
          "output_type": "stream",
          "text": [
            "Line 1 - a and b have same identity\n",
            "Line 2 - a and b have same identity\n",
            "Line 3 - a and b do not have same identity\n",
            "Line 4 - a and b do not have same identity\n"
          ],
          "name": "stdout"
        }
      ]
    },
    {
      "cell_type": "code",
      "metadata": {
        "colab": {
          "base_uri": "https://localhost:8080/"
        },
        "id": "1i52wGAaUGiZ",
        "outputId": "32247f93-39ee-40ab-ef15-c0aa8ed44358"
      },
      "source": [
        "#14.To show the use of all the membership operators.\r\n",
        "list1=[1,2,3,4,5] \r\n",
        "list2=[6,7,8,9] \r\n",
        "for item in list1: \r\n",
        "    if item in list2: \r\n",
        "        print(\"overlapping\")     \r\n",
        "else: \r\n",
        "    print(\"not overlapping\")\r\n",
        "\r\n",
        "x = 24\r\n",
        "y = 20\r\n",
        "list = [10, 20, 30, 40, 50 ]; \r\n",
        "  \r\n",
        "if ( x not in list ): \r\n",
        "   print(\"x is NOT present in given list\") \r\n",
        "else: \r\n",
        "   print(\"x is  present in given list\") \r\n",
        "  \r\n",
        "if ( y in list ): \r\n",
        "   print(\"y is present in given list\") \r\n",
        "else: \r\n",
        "   print(\"y is NOT present in given list\") "
      ],
      "execution_count": null,
      "outputs": [
        {
          "output_type": "stream",
          "text": [
            "not overlapping\n",
            "x is NOT present in given list\n",
            "y is present in given list\n"
          ],
          "name": "stdout"
        }
      ]
    },
    {
      "cell_type": "code",
      "metadata": {
        "colab": {
          "base_uri": "https://localhost:8080/"
        },
        "id": "EDCtev1zUm_g",
        "outputId": "14dff5ab-b68a-4e66-83cd-66a10293bff8"
      },
      "source": [
        "#15. To show the use of all the bitwise operators.\r\n",
        "a = 10\r\n",
        "b = 4\r\n",
        " \r\n",
        "# Print bitwise AND operation\r\n",
        "print(\"a & b =\", a & b)\r\n",
        " \r\n",
        "# Print bitwise OR operation\r\n",
        "print(\"a | b =\", a | b)\r\n",
        " \r\n",
        "# Print bitwise NOT operation\r\n",
        "print(\"~a =\", ~a)\r\n",
        " \r\n",
        "# print bitwise XOR operation\r\n",
        "print(\"a ^ b =\", a ^ b)\r\n",
        "\r\n",
        "a = 10\r\n",
        "b = -10\r\n",
        " \r\n",
        "# print bitwise right shift operator\r\n",
        "print(\"a >> 1 =\", a >> 1)\r\n",
        "print(\"b >> 1 =\", b >> 1)\r\n",
        " \r\n",
        "a = 5\r\n",
        "b = -10\r\n",
        " \r\n",
        "# print bitwise left shift operator\r\n",
        "print(\"a << 1 =\", a << 1)\r\n",
        "print(\"b << 1 =\", b << 1)"
      ],
      "execution_count": null,
      "outputs": [
        {
          "output_type": "stream",
          "text": [
            "a & b = 0\n",
            "a | b = 14\n",
            "~a = -11\n",
            "a ^ b = 14\n",
            "a >> 1 = 5\n",
            "b >> 1 = -5\n",
            "a << 1 = 10\n",
            "b << 1 = -20\n"
          ],
          "name": "stdout"
        }
      ]
    },
    {
      "cell_type": "code",
      "metadata": {
        "id": "slJosRfyU051",
        "colab": {
          "base_uri": "https://localhost:8080/"
        },
        "outputId": "2bb3d42a-fcc1-40ad-af87-d271d7ff724e"
      },
      "source": [
        "#16. To show all the operations and methods related with immutable data type.\r\n",
        "a = 1\r\n",
        "print(\"Integer: \",dir(a))\r\n",
        "a = 1.1\r\n",
        "print(\"Float: \",dir(a))\r\n",
        "a = \"abc\"\r\n",
        "print(\"String: \",dir(a))\r\n",
        "a = (1,2,3)\r\n",
        "print(\"Tuple: \",dir(a))"
      ],
      "execution_count": null,
      "outputs": [
        {
          "output_type": "stream",
          "text": [
            "Integer:  ['__abs__', '__add__', '__and__', '__bool__', '__ceil__', '__class__', '__delattr__', '__dir__', '__divmod__', '__doc__', '__eq__', '__float__', '__floor__', '__floordiv__', '__format__', '__ge__', '__getattribute__', '__getnewargs__', '__gt__', '__hash__', '__index__', '__init__', '__init_subclass__', '__int__', '__invert__', '__le__', '__lshift__', '__lt__', '__mod__', '__mul__', '__ne__', '__neg__', '__new__', '__or__', '__pos__', '__pow__', '__radd__', '__rand__', '__rdivmod__', '__reduce__', '__reduce_ex__', '__repr__', '__rfloordiv__', '__rlshift__', '__rmod__', '__rmul__', '__ror__', '__round__', '__rpow__', '__rrshift__', '__rshift__', '__rsub__', '__rtruediv__', '__rxor__', '__setattr__', '__sizeof__', '__str__', '__sub__', '__subclasshook__', '__truediv__', '__trunc__', '__xor__', 'bit_length', 'conjugate', 'denominator', 'from_bytes', 'imag', 'numerator', 'real', 'to_bytes']\n",
            "Float:  ['__abs__', '__add__', '__bool__', '__class__', '__delattr__', '__dir__', '__divmod__', '__doc__', '__eq__', '__float__', '__floordiv__', '__format__', '__ge__', '__getattribute__', '__getformat__', '__getnewargs__', '__gt__', '__hash__', '__init__', '__init_subclass__', '__int__', '__le__', '__lt__', '__mod__', '__mul__', '__ne__', '__neg__', '__new__', '__pos__', '__pow__', '__radd__', '__rdivmod__', '__reduce__', '__reduce_ex__', '__repr__', '__rfloordiv__', '__rmod__', '__rmul__', '__round__', '__rpow__', '__rsub__', '__rtruediv__', '__setattr__', '__setformat__', '__sizeof__', '__str__', '__sub__', '__subclasshook__', '__truediv__', '__trunc__', 'as_integer_ratio', 'conjugate', 'fromhex', 'hex', 'imag', 'is_integer', 'real']\n",
            "String:  ['__add__', '__class__', '__contains__', '__delattr__', '__dir__', '__doc__', '__eq__', '__format__', '__ge__', '__getattribute__', '__getitem__', '__getnewargs__', '__gt__', '__hash__', '__init__', '__init_subclass__', '__iter__', '__le__', '__len__', '__lt__', '__mod__', '__mul__', '__ne__', '__new__', '__reduce__', '__reduce_ex__', '__repr__', '__rmod__', '__rmul__', '__setattr__', '__sizeof__', '__str__', '__subclasshook__', 'capitalize', 'casefold', 'center', 'count', 'encode', 'endswith', 'expandtabs', 'find', 'format', 'format_map', 'index', 'isalnum', 'isalpha', 'isdecimal', 'isdigit', 'isidentifier', 'islower', 'isnumeric', 'isprintable', 'isspace', 'istitle', 'isupper', 'join', 'ljust', 'lower', 'lstrip', 'maketrans', 'partition', 'replace', 'rfind', 'rindex', 'rjust', 'rpartition', 'rsplit', 'rstrip', 'split', 'splitlines', 'startswith', 'strip', 'swapcase', 'title', 'translate', 'upper', 'zfill']\n",
            "Tuple:  ['__add__', '__class__', '__contains__', '__delattr__', '__dir__', '__doc__', '__eq__', '__format__', '__ge__', '__getattribute__', '__getitem__', '__getnewargs__', '__gt__', '__hash__', '__init__', '__init_subclass__', '__iter__', '__le__', '__len__', '__lt__', '__mul__', '__ne__', '__new__', '__reduce__', '__reduce_ex__', '__repr__', '__rmul__', '__setattr__', '__sizeof__', '__str__', '__subclasshook__', 'count', 'index']\n"
          ],
          "name": "stdout"
        }
      ]
    },
    {
      "cell_type": "code",
      "metadata": {
        "colab": {
          "base_uri": "https://localhost:8080/"
        },
        "id": "NN0VPaKjZzYQ",
        "outputId": "8e63bd9b-2809-4c10-a36c-cfbe08250fb3"
      },
      "source": [
        "#17. To show all the opearions and methods related with mutable data type.\n",
        "a = {1,2,3}\n",
        "print(\"Set: \",dir(a))\n",
        "a = [1,2,3]\n",
        "print(\"List: \",dir(a))\n",
        "a = {1:'a',2:'b'}\n",
        "print(\"Dictionary: \",dir(a))"
      ],
      "execution_count": null,
      "outputs": [
        {
          "output_type": "stream",
          "text": [
            "Set:  ['__and__', '__class__', '__contains__', '__delattr__', '__dir__', '__doc__', '__eq__', '__format__', '__ge__', '__getattribute__', '__gt__', '__hash__', '__iand__', '__init__', '__init_subclass__', '__ior__', '__isub__', '__iter__', '__ixor__', '__le__', '__len__', '__lt__', '__ne__', '__new__', '__or__', '__rand__', '__reduce__', '__reduce_ex__', '__repr__', '__ror__', '__rsub__', '__rxor__', '__setattr__', '__sizeof__', '__str__', '__sub__', '__subclasshook__', '__xor__', 'add', 'clear', 'copy', 'difference', 'difference_update', 'discard', 'intersection', 'intersection_update', 'isdisjoint', 'issubset', 'issuperset', 'pop', 'remove', 'symmetric_difference', 'symmetric_difference_update', 'union', 'update']\n",
            "List:  ['__add__', '__class__', '__contains__', '__delattr__', '__delitem__', '__dir__', '__doc__', '__eq__', '__format__', '__ge__', '__getattribute__', '__getitem__', '__gt__', '__hash__', '__iadd__', '__imul__', '__init__', '__init_subclass__', '__iter__', '__le__', '__len__', '__lt__', '__mul__', '__ne__', '__new__', '__reduce__', '__reduce_ex__', '__repr__', '__reversed__', '__rmul__', '__setattr__', '__setitem__', '__sizeof__', '__str__', '__subclasshook__', 'append', 'clear', 'copy', 'count', 'extend', 'index', 'insert', 'pop', 'remove', 'reverse', 'sort']\n",
            "Dictionary:  ['__class__', '__contains__', '__delattr__', '__delitem__', '__dir__', '__doc__', '__eq__', '__format__', '__ge__', '__getattribute__', '__getitem__', '__gt__', '__hash__', '__init__', '__init_subclass__', '__iter__', '__le__', '__len__', '__lt__', '__ne__', '__new__', '__reduce__', '__reduce_ex__', '__repr__', '__setattr__', '__setitem__', '__sizeof__', '__str__', '__subclasshook__', 'clear', 'copy', 'fromkeys', 'get', 'items', 'keys', 'pop', 'popitem', 'setdefault', 'update', 'values']\n"
          ],
          "name": "stdout"
        }
      ]
    }
  ]
}